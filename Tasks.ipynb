{
 "cells": [
  {
   "cell_type": "markdown",
   "metadata": {
    "collapsed": true
   },
   "source": [
    "# Tasks"
   ]
  },
  {
   "cell_type": "markdown",
   "metadata": {},
   "source": [
    "1) Program for identifying blood donors for a particular blood type."
   ]
  },
  {
   "cell_type": "code",
   "execution_count": 4,
   "metadata": {},
   "outputs": [
    {
     "name": "stdout",
     "output_type": "stream",
     "text": [
      "Enter your blood type here : a-\n",
      "Donor's blood type: b-\n",
      "cannot donate\n"
     ]
    }
   ],
   "source": [
    "bloodtype = input(\"Enter your blood type here : \")\n",
    "donor = input(\"Donor's blood type: \")\n",
    "k = bloodtype.upper()\n",
    "l = donor.upper()\n",
    "\n",
    "if k == 'A+' :\n",
    "    print(\"Blood donors can be: O-,O+,A-,A+ \")\n",
    "elif k == 'l' or k =='ab' :\n",
    "    print(\"can donate\")\n",
    "elif l == 'O-' :\n",
    "    print(\"can donate\")\n",
    "else :\n",
    "    print(\"cannot donate\")\n",
    "    "
   ]
  },
  {
   "cell_type": "markdown",
   "metadata": {
    "collapsed": true
   },
   "source": [
    "2) Program to identify a prime number."
   ]
  },
  {
   "cell_type": "code",
   "execution_count": 14,
   "metadata": {},
   "outputs": [
    {
     "name": "stdout",
     "output_type": "stream",
     "text": [
      "enter the number to be checked73\n",
      "Prime number\n"
     ]
    }
   ],
   "source": [
    "num = int(input(\"enter the number to be checked\"))\n",
    "count = 0\n",
    "i = 1\n",
    "while i<num/2 :\n",
    "    if num%i==0 :\n",
    "        count=count+1\n",
    "        i=i+1\n",
    "    else :\n",
    "        i=i+1\n",
    "if count == 1 :\n",
    "    print(\"Prime number\")\n",
    "else :\n",
    "    print(\"Not Prime\")\n",
    "        "
   ]
  },
  {
   "cell_type": "code",
   "execution_count": 3,
   "metadata": {},
   "outputs": [
    {
     "name": "stdout",
     "output_type": "stream",
     "text": [
      "enter the starting number1\n",
      "enter the ending number10\n",
      "2\n",
      "3\n",
      "5\n",
      "7\n"
     ]
    }
   ],
   "source": [
    "num1 = int(input(\"enter the starting number\"))\n",
    "num2 = int(input(\"enter the ending number\"))\n",
    "\n",
    "num = num1+1\n",
    "while num < num2 :\n",
    "    count=0\n",
    "    i=1\n",
    "    while i<=num/2 :\n",
    "        if num%i==0:\n",
    "            count+=1\n",
    "        i=i+1\n",
    "    if count==1:\n",
    "        print(num)\n",
    "    num+=1\n",
    "        \n",
    "\n",
    "    "
   ]
  },
  {
   "cell_type": "code",
   "execution_count": 15,
   "metadata": {},
   "outputs": [
    {
     "name": "stdout",
     "output_type": "stream",
     "text": [
      "enter the number you want to check if plaindrome1234321\n",
      "palindrome\n"
     ]
    }
   ],
   "source": [
    "num = (input(\"enter the number you want to check if plaindrome\"))\n",
    "s = num[::-1]\n",
    "if s == num :\n",
    "    print(\"palindrome\")\n",
    "\n",
    "\n",
    " "
   ]
  },
  {
   "cell_type": "code",
   "execution_count": 10,
   "metadata": {},
   "outputs": [
    {
     "name": "stdout",
     "output_type": "stream",
     "text": [
      "enter the number456\n"
     ]
    }
   ],
   "source": [
    "num = (input(\"enter the number\"))\n",
    "s = 0\n",
    "for i in num :\n",
    "    s=s+int(i)**len(num)\n",
    "if s == int(num) :\n",
    "    print(\"armstrong number\")\n",
    "else :\n",
    "    print(\"not an armstrong number\")\n",
    "    "
   ]
  },
  {
   "cell_type": "code",
   "execution_count": 12,
   "metadata": {},
   "outputs": [
    {
     "name": "stdout",
     "output_type": "stream",
     "text": [
      "enter the starting number300\n",
      "enter the ending number400\n"
     ]
    },
    {
     "ename": "TypeError",
     "evalue": "'int' object is not iterable",
     "output_type": "error",
     "traceback": [
      "\u001b[1;31m---------------------------------------------------------------------------\u001b[0m",
      "\u001b[1;31mTypeError\u001b[0m                                 Traceback (most recent call last)",
      "\u001b[1;32m<ipython-input-12-446c8d13ee4a>\u001b[0m in \u001b[0;36m<module>\u001b[1;34m()\u001b[0m\n\u001b[0;32m      4\u001b[0m \u001b[1;32mwhile\u001b[0m \u001b[0mnum\u001b[0m \u001b[1;33m<\u001b[0m \u001b[0mnum2\u001b[0m \u001b[1;33m:\u001b[0m\u001b[1;33m\u001b[0m\u001b[0m\n\u001b[0;32m      5\u001b[0m     \u001b[0ms\u001b[0m \u001b[1;33m=\u001b[0m \u001b[1;36m0\u001b[0m\u001b[1;33m\u001b[0m\u001b[0m\n\u001b[1;32m----> 6\u001b[1;33m     \u001b[1;32mfor\u001b[0m \u001b[0mi\u001b[0m \u001b[1;32min\u001b[0m \u001b[0mnum\u001b[0m \u001b[1;33m:\u001b[0m\u001b[1;33m\u001b[0m\u001b[0m\n\u001b[0m\u001b[0;32m      7\u001b[0m         \u001b[0ms\u001b[0m\u001b[1;33m=\u001b[0m\u001b[0ms\u001b[0m\u001b[1;33m+\u001b[0m\u001b[0mint\u001b[0m\u001b[1;33m(\u001b[0m\u001b[0mi\u001b[0m\u001b[1;33m)\u001b[0m\u001b[1;33m**\u001b[0m\u001b[0mlen\u001b[0m\u001b[1;33m(\u001b[0m\u001b[0mnum\u001b[0m\u001b[1;33m)\u001b[0m\u001b[1;33m\u001b[0m\u001b[0m\n\u001b[0;32m      8\u001b[0m     \u001b[1;32mif\u001b[0m \u001b[0ms\u001b[0m\u001b[1;33m==\u001b[0m \u001b[0mint\u001b[0m\u001b[1;33m(\u001b[0m\u001b[0mnum\u001b[0m\u001b[1;33m)\u001b[0m \u001b[1;33m:\u001b[0m\u001b[1;33m\u001b[0m\u001b[0m\n",
      "\u001b[1;31mTypeError\u001b[0m: 'int' object is not iterable"
     ]
    }
   ],
   "source": [
    "num1 = int(input(\"enter the starting number\"))\n",
    "num2 = int(input(\"enter the ending number\"))\n",
    "num = num1+1\n",
    "while num < num2 :\n",
    "    s = 0\n",
    "    for i in num :\n",
    "        s=s+int(i)**len(num)\n",
    "    if s== int(num) :\n",
    "        print(num)\n",
    "        \n",
    "    num = num+1    \n",
    "\n"
   ]
  },
  {
   "cell_type": "code",
   "execution_count": null,
   "metadata": {},
   "outputs": [
    {
     "name": "stdout",
     "output_type": "stream",
     "text": [
      "Do you want to roll again: n\n",
      "Score: 1\n"
     ]
    }
   ],
   "source": [
    "from random import randrange\n",
    "while input (\"Do you want to roll again: \") :\n",
    "    print(\"Score:\", randrange(1,6))\n",
    "    \n",
    "    "
   ]
  },
  {
   "cell_type": "code",
   "execution_count": 1,
   "metadata": {},
   "outputs": [
    {
     "name": "stdout",
     "output_type": "stream",
     "text": [
      "1\n",
      "2\n",
      "3\n",
      "4\n",
      "5\n",
      "6\n",
      "7\n",
      "8\n",
      "9\n"
     ]
    }
   ],
   "source": [
    "for var in '123456789':\n",
    "    print(var)"
   ]
  },
  {
   "cell_type": "code",
   "execution_count": 2,
   "metadata": {},
   "outputs": [
    {
     "name": "stdout",
     "output_type": "stream",
     "text": [
      "1\n",
      "2\n",
      "3\n",
      "4\n",
      "5\n",
      "6\n",
      "7\n",
      "8\n",
      "9\n",
      "10\n"
     ]
    }
   ],
   "source": [
    "l = [1,2,3,4,5,6,7,8,9,10]\n",
    "for var in l :\n",
    "    print(var)"
   ]
  },
  {
   "cell_type": "code",
   "execution_count": 5,
   "metadata": {},
   "outputs": [
    {
     "name": "stdout",
     "output_type": "stream",
     "text": [
      "{'one': 1, 'two': 2, 'three': 3}\n",
      "{'one': 1, 'two': 2, 'three': 3}\n",
      "{'one': 1, 'two': 2, 'three': 3}\n"
     ]
    }
   ],
   "source": [
    "d = { 'one':1, 'two':2, 'three':3}\n",
    "for var in d:\n",
    "    print(d)"
   ]
  },
  {
   "cell_type": "markdown",
   "metadata": {},
   "source": []
  },
  {
   "cell_type": "code",
   "execution_count": 5,
   "metadata": {},
   "outputs": [
    {
     "name": "stdout",
     "output_type": "stream",
     "text": [
      "-100 -95 -90 -85 -80 -75 -70 -65 -60 -55 -50 -45 -40 -35 -30 -25 -20 -15 -10 -5 "
     ]
    }
   ],
   "source": [
    "for var in range(-100,0):\n",
    "    if var%5==0:\n",
    "        print(var,end=' ')\n",
    "        "
   ]
  },
  {
   "cell_type": "code",
   "execution_count": 10,
   "metadata": {},
   "outputs": [
    {
     "name": "stdout",
     "output_type": "stream",
     "text": [
      "enter a number5\n",
      "enter the starting point1\n",
      "enter the ending point100\n",
      "1\n",
      "5\n"
     ]
    }
   ],
   "source": [
    "number = int(input(\"enter a number\"))\n",
    "n1 = int(input(\"enter the starting point\"))\n",
    "n2 = int(input(\"enter the ending point\"))\n",
    "for i in range(n1,n2+1):\n",
    "    if number % i== 0 :\n",
    "        print(i)\n",
    "        "
   ]
  },
  {
   "cell_type": "code",
   "execution_count": 1,
   "metadata": {},
   "outputs": [
    {
     "name": "stdout",
     "output_type": "stream",
     "text": [
      "enter the number1\n",
      "enter the number2\n",
      "enter the number3\n",
      "enter the number4\n",
      "enter the number5\n",
      "enter the number6\n",
      "enter the number7\n",
      "enter the number8\n",
      "enter the number9\n",
      "enter the number10\n",
      "[1, 2, 3, 4, 5, 6, 7, 8, 9, 10]\n"
     ]
    }
   ],
   "source": [
    "l=[]\n",
    "i=1\n",
    "while i <= 10:\n",
    "    s = int(input(\"enter the number\"))\n",
    "    l.append(s)\n",
    "    i=i+1\n",
    "print(l)\n",
    "    \n",
    "\n",
    "    \n",
    "    \n",
    "    "
   ]
  },
  {
   "cell_type": "code",
   "execution_count": 1,
   "metadata": {},
   "outputs": [
    {
     "name": "stdout",
     "output_type": "stream",
     "text": [
      "\n",
      "\n",
      "\n",
      "**************************************************\n",
      "Welcome to Python Bank\n",
      "**************************************************\n",
      "\n",
      "\n",
      "1. Login \n",
      "2. Signup \n",
      "3. Admin \n",
      "4. Exit\n",
      "Your Choice : 1\n",
      "\n",
      "\n",
      "\n",
      "Acc Number : 1001\n",
      "Password : ········\n",
      "\n",
      "\n",
      "1. Debit\n",
      "2. Credit\n",
      "3. Check Balance\n",
      "4. Change Password \n",
      "5. Logout\n",
      "Choice : 1\n",
      "enter the amount to be debited5000\n",
      "\n",
      "\n",
      "\n",
      "Your request is being processed\n",
      "the remaining balance is 5000.23\n",
      "\n",
      "\n",
      "1. Debit\n",
      "2. Credit\n",
      "3. Check Balance\n",
      "4. Change Password \n",
      "5. Logout\n",
      "Choice : 5\n",
      "\n",
      "Logging you out.....\n",
      "\n",
      "\n",
      "\n",
      "\n",
      "**************************************************\n",
      "Welcome to Python Bank\n",
      "**************************************************\n",
      "\n",
      "\n",
      "1. Login \n",
      "2. Signup \n",
      "3. Admin \n",
      "4. Exit\n",
      "Your Choice : 4\n",
      "\n",
      "\n",
      "Do really want to exit ? (y/n) : y\n",
      "\n",
      "Thanks for useing our services \n"
     ]
    }
   ],
   "source": [
    "from getpass import getpass\n",
    "bank = { \n",
    "        'user' : [ 'ram', 'sam','vijay' ],\n",
    "        'acc' : [ 1001, 1002, 1003 ],\n",
    "        'password' : [ 'grras@123', 'something', 'redhat'],\n",
    "        'balance' : [ 10000.23, 20000.45, 124322.234]\n",
    "        }\n",
    "admin = 'root'\n",
    "admin_password = 'redhat@123'\n",
    "\n",
    "while True :\n",
    "    print(\"\\n\\n\")\n",
    "    print(\"*\"*50)\n",
    "    print(\"Welcome to Python Bank\")\n",
    "    print(\"*\"*50)\n",
    "    print(\"\\n\\n1. Login \\n2. Signup \\n3. Admin \\n4. Exit\")\n",
    "    ch = int(input(\"Your Choice : \"))\n",
    "    \n",
    "    if ch == 1 :\n",
    "        print(\"\\n\\n\")\n",
    "        uacc = int(input(\"Acc Number : \"))\n",
    "        if uacc in bank['acc'] :\n",
    "            upass = getpass(\"Password : \")\n",
    "            index = bank['acc'].index(uacc)\n",
    "            if upass == bank['password'][index]:\n",
    "                while True :\n",
    "                    print(\"\\n\\n1. Debit\\n2. Credit\\n3. Check Balance\\n4. Change Password \\n5. Logout\")\n",
    "                    ch = int(input(\"Choice : \"))\n",
    "                    if ch == 1 :\n",
    "                        #your code goes here for debit\n",
    "                        debitamt=int(input(\"enter the amount to be debited\"))\n",
    "                        if debitamt<bank['balance'][index]:\n",
    "                            print(\"\\n\\n\")\n",
    "                            print(\"Your request is being processed\")\n",
    "                            bank['balance'][index]= bank['balance'][index] - debitamt\n",
    "                            print(\"the remaining balance is\",bank['balance'][index] )\n",
    "                        else :\n",
    "                            print(\"you dont have enough funds\")\n",
    "                            \n",
    "                        pass\n",
    "                    elif ch == 2 :\n",
    "                        #your code goes here for credit\n",
    "                        pass\n",
    "                    elif ch == 3 :\n",
    "                        #your code goes here for Check Balance\n",
    "                        pass\n",
    "                    elif ch == 4 : \n",
    "                        #your code goes here for password change\n",
    "                        pass\n",
    "                    elif ch == 5 :\n",
    "                        print(\"\\nLogging you out.....\\n\")\n",
    "                        break\n",
    "                    else :\n",
    "                        print(\"\\n\\nInvalid Choice \")\n",
    "                        print(\"Try Again\")\n",
    "            else :\n",
    "                print(\"\\n\\nInvalid Password\\n\\nTry Again\")\n",
    "            \n",
    "        else :\n",
    "            print(\"\\n\\nNo such Account Exists \\nYou should signup\\n\\n\")\n",
    "    elif ch == 2 :\n",
    "        acc = bank['acc'][-1] + 1\n",
    "        name = input(\"Username : \")\n",
    "        bal = float(input(\"Initial Blance : \"))\n",
    "        password = getpass(\"Set Password : \")\n",
    "        bank['user'].append(name)\n",
    "        bank['acc'].append(acc)\n",
    "        bank['password'].append(password)\n",
    "        bank['balance'].append(bal)\n",
    "        print(\"\\nAccount Sucessfully Created\")\n",
    "        print(\"Note down your account num :  {}\".format(acc))\n",
    "        print(\"Now you can login\\n\")\n",
    "    elif ch == 3 :\n",
    "        username = input(\"\\nEnter name : \").strip().lower()\n",
    "        password = getpass()\n",
    "        if username == admin : \n",
    "            if password == admin_password :\n",
    "                print()\n",
    "                for key,value in bank.items():\n",
    "                    print(\"{}={}\".format(key,value))\n",
    "                print()\n",
    "            else :\n",
    "                print(\"\\nInvalid password \\nTry Again\")\n",
    "        else :\n",
    "            print(\"\\nThis user is not an admin.\")\n",
    "    elif ch == 4 :\n",
    "        ch = input(\"\\n\\nDo really want to exit ? (y/n) : \").strip().lower()\n",
    "        if ch == 'y' or ch == 'yes' :      \n",
    "            print(\"\\nThanks for useing our services \")\n",
    "            break\n",
    "    else :\n",
    "        print(\"\\nInvalidChoice\\nTry again\")"
   ]
  },
  {
   "cell_type": "code",
   "execution_count": null,
   "metadata": {
    "collapsed": true
   },
   "outputs": [],
   "source": []
  }
 ],
 "metadata": {
  "kernelspec": {
   "display_name": "Python 3",
   "language": "python",
   "name": "python3"
  },
  "language_info": {
   "codemirror_mode": {
    "name": "ipython",
    "version": 3
   },
   "file_extension": ".py",
   "mimetype": "text/x-python",
   "name": "python",
   "nbconvert_exporter": "python",
   "pygments_lexer": "ipython3",
   "version": "3.6.3"
  }
 },
 "nbformat": 4,
 "nbformat_minor": 2
}
